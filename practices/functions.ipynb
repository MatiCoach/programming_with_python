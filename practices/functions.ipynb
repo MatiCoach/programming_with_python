{
  "cells": [
    {
      "cell_type": "markdown",
      "metadata": {
        "id": "depBmbO4ruiW"
      },
      "source": [
        "# Functions Assessment Test\n",
        "\n",
        "Complete the following questions:\n",
        "____\n",
        "**Write a function that computes the volume of a sphere given its radius.**\n",
        "<p>The volume of a sphere is given as $$\\frac{4}{3} πr^3$$</p>"
      ]
    },
    {
      "cell_type": "code",
      "execution_count": null,
      "metadata": {
        "collapsed": true,
        "jupyter": {
          "outputs_hidden": true
        },
        "id": "C5FvuS5pruiX"
      },
      "outputs": [],
      "source": [
        "def vol(rad):\n",
        "    pi=3.14\n",
        "    result=4/3*pi*(rad**3)\n",
        "    return result"
      ]
    },
    {
      "cell_type": "code",
      "execution_count": null,
      "metadata": {
        "id": "GGCrYT0YruiY",
        "outputId": "8e778b25-29e0-4d6a-b308-d8ad92633657",
        "colab": {
          "base_uri": "https://localhost:8080/"
        }
      },
      "outputs": [
        {
          "output_type": "execute_result",
          "data": {
            "text/plain": [
              "33.49333333333333"
            ]
          },
          "metadata": {},
          "execution_count": 25
        }
      ],
      "source": [
        "# Check\n",
        "vol(2)"
      ]
    },
    {
      "cell_type": "markdown",
      "metadata": {
        "id": "gzv-kAmgruiZ"
      },
      "source": [
        "___\n",
        "**Write a function that checks whether a number is in a given range (inclusive of high and low)**"
      ]
    },
    {
      "cell_type": "code",
      "execution_count": 44,
      "metadata": {
        "collapsed": true,
        "jupyter": {
          "outputs_hidden": true
        },
        "id": "bpEhFzEjruiZ"
      },
      "outputs": [],
      "source": [
        "def ran_check(num,low,high):\n",
        "    if low <=num<=high:\n",
        "      print (f'{num} is in the range between {low} and {high} ')\n",
        "    else:\n",
        "      print (f'{num} is not in the range between {low} and {high} ')\n"
      ]
    },
    {
      "cell_type": "code",
      "execution_count": 45,
      "metadata": {
        "id": "a1mqyK0OruiZ",
        "outputId": "54e5a304-d5a0-414e-dfb1-34c99b9d13a2",
        "colab": {
          "base_uri": "https://localhost:8080/"
        }
      },
      "outputs": [
        {
          "output_type": "stream",
          "name": "stdout",
          "text": [
            "5 is in the range between 2 and 7 \n"
          ]
        }
      ],
      "source": [
        "# Check\n",
        "ran_check(5,2,7)"
      ]
    },
    {
      "cell_type": "markdown",
      "metadata": {
        "id": "rZw7NTKTruiZ"
      },
      "source": [
        "If you only wanted to return a boolean:"
      ]
    },
    {
      "cell_type": "code",
      "execution_count": 60,
      "metadata": {
        "collapsed": true,
        "jupyter": {
          "outputs_hidden": true
        },
        "id": "9CFByjNfruiZ"
      },
      "outputs": [],
      "source": [
        "def ran_bool(num,low,high):\n",
        "    if low<=num<=high:\n",
        "      return True\n",
        "    else:\n",
        "      return False"
      ]
    },
    {
      "cell_type": "code",
      "source": [
        "def ran_bool(num,low,high):\n",
        "  return low<=num<=high"
      ],
      "metadata": {
        "id": "yVHqQoVDPB7J"
      },
      "execution_count": 61,
      "outputs": []
    },
    {
      "cell_type": "code",
      "execution_count": 62,
      "metadata": {
        "id": "khQNY02bruia",
        "outputId": "4543d6fc-30a2-402c-f1b7-bb96e42cf392",
        "colab": {
          "base_uri": "https://localhost:8080/"
        }
      },
      "outputs": [
        {
          "output_type": "execute_result",
          "data": {
            "text/plain": [
              "True"
            ]
          },
          "metadata": {},
          "execution_count": 62
        }
      ],
      "source": [
        "ran_bool(3,1,10)"
      ]
    },
    {
      "cell_type": "markdown",
      "metadata": {
        "id": "MQlG4wDMruia"
      },
      "source": [
        "____\n",
        "**Write a Python function that accepts a string and calculates the number of upper case letters and lower case letters.**\n",
        "\n",
        "    Sample String : 'Hello Mr. Rogers, how are you this fine Tuesday?'\n",
        "    Expected Output :\n",
        "    No. of Upper case characters : 4\n",
        "    No. of Lower case Characters : 33\n",
        "\n",
        "HINT: Two string methods that might prove useful: **.isupper()** and **.islower()**\n",
        "\n",
        "If you feel ambitious, explore the Collections module to solve this problem!"
      ]
    },
    {
      "cell_type": "code",
      "source": [
        "def up_low(s):\n",
        "  s=''.join([char for char in text if char.isalpha() or char==']'])\n",
        "  count_upper=0\n",
        "  count_lower=0\n",
        "  for char in s:\n",
        "    if char.isupper():\n",
        "      count_upper+=1\n",
        "    else:\n",
        "      count_lower+=1\n",
        "\n",
        "  Upper_case=f'No. of Upper case characters :{count_upper}'\n",
        "  Lower_case=f'No. of Lower  case characters :{count_lower}'\n",
        "  print(Upper_case)\n",
        "  print(Lower_case)"
      ],
      "metadata": {
        "id": "PF_oKzKbwtQc"
      },
      "execution_count": 84,
      "outputs": []
    },
    {
      "cell_type": "code",
      "source": [
        "up_low(s)"
      ],
      "metadata": {
        "colab": {
          "base_uri": "https://localhost:8080/"
        },
        "id": "FXiZxuIhxOih",
        "outputId": "e932ba59-04e1-4dff-868e-8583f6a0e1e0"
      },
      "execution_count": 83,
      "outputs": [
        {
          "output_type": "stream",
          "name": "stdout",
          "text": [
            "No. of Upper case characters :4\n",
            "No. of Lower  case characters :33\n"
          ]
        }
      ]
    },
    {
      "cell_type": "code",
      "execution_count": 82,
      "metadata": {
        "collapsed": true,
        "jupyter": {
          "outputs_hidden": true
        },
        "id": "BCMz9YRIruia"
      },
      "outputs": [],
      "source": [
        "def up_low(s):\n",
        "  s=s.replace(' ','').replace(',','').replace('?','').replace('.','')\n",
        "  count_upper=0\n",
        "  count_lower=0\n",
        "  for char in s:\n",
        "    if char.isupper():\n",
        "      count_upper+=1\n",
        "    else:\n",
        "      count_lower+=1\n",
        "\n",
        "  Upper_case=f'No. of Upper case characters :{count_upper}'\n",
        "  Lower_case=f'No. of Lower  case characters :{count_lower}'\n",
        "  print(Upper_case)\n",
        "  print(Lower_case)\n"
      ]
    },
    {
      "cell_type": "code",
      "execution_count": 81,
      "metadata": {
        "id": "xsIZK1BBruia",
        "outputId": "b596715c-a515-438a-f969-84d8e68c967d",
        "colab": {
          "base_uri": "https://localhost:8080/"
        }
      },
      "outputs": [
        {
          "output_type": "stream",
          "name": "stdout",
          "text": [
            "No. of Upper case characters :4\n",
            "No. of Lower  case characters :33\n"
          ]
        }
      ],
      "source": [
        "\n",
        "up_low(s)"
      ]
    },
    {
      "cell_type": "markdown",
      "metadata": {
        "id": "0Rr1Nz-truib"
      },
      "source": [
        "____\n",
        "**Write a Python function that takes a list and returns a new list with unique elements of the first list.**\n",
        "\n",
        "    Sample List : [1,1,1,1,2,2,3,3,3,3,4,5]\n",
        "    Unique List : [1, 2, 3, 4, 5]"
      ]
    },
    {
      "cell_type": "code",
      "execution_count": 87,
      "metadata": {
        "collapsed": true,
        "jupyter": {
          "outputs_hidden": true
        },
        "id": "kLBMZfnEruib"
      },
      "outputs": [],
      "source": [
        "def unique_list(lst):\n",
        "    unique_number=list(set(lst))\n",
        "    return unique_number"
      ]
    },
    {
      "cell_type": "code",
      "execution_count": 88,
      "metadata": {
        "id": "ROXoUmCJruib",
        "outputId": "f58d88ba-d057-4986-df9a-0b1fc2a933a0",
        "colab": {
          "base_uri": "https://localhost:8080/"
        }
      },
      "outputs": [
        {
          "output_type": "execute_result",
          "data": {
            "text/plain": [
              "[1, 2, 3, 4, 5]"
            ]
          },
          "metadata": {},
          "execution_count": 88
        }
      ],
      "source": [
        "unique_list([1,1,1,1,2,2,3,3,3,3,4,5])"
      ]
    },
    {
      "cell_type": "markdown",
      "metadata": {
        "id": "AP7Jm18Oruib"
      },
      "source": [
        "____\n",
        "**Write a Python function to multiply all the numbers in a list.**\n",
        "\n",
        "    Sample List : [1, 2, 3, -4]\n",
        "    Expected Output : -24"
      ]
    },
    {
      "cell_type": "code",
      "execution_count": 97,
      "metadata": {
        "collapsed": true,
        "jupyter": {
          "outputs_hidden": true
        },
        "id": "EFHp55pwruib"
      },
      "outputs": [],
      "source": [
        "def multiply(numbers):\n",
        "    result=1\n",
        "    for lst in numbers:\n",
        "      result=result*lst\n",
        "    return result\n",
        ""
      ]
    },
    {
      "cell_type": "code",
      "execution_count": 98,
      "metadata": {
        "id": "JHT7WUFhruib",
        "outputId": "12236c46-9275-4e7c-ad72-ba962c8bf4f1",
        "colab": {
          "base_uri": "https://localhost:8080/"
        }
      },
      "outputs": [
        {
          "output_type": "execute_result",
          "data": {
            "text/plain": [
              "-24"
            ]
          },
          "metadata": {},
          "execution_count": 98
        }
      ],
      "source": [
        "multiply([1,2,3,-4])"
      ]
    },
    {
      "cell_type": "markdown",
      "metadata": {
        "id": "BOlGte7vruib"
      },
      "source": [
        "____\n",
        "**Write a Python function that checks whether a word or phrase is palindrome or not.**\n",
        "\n",
        "Note: A palindrome is word, phrase, or sequence that reads the same backward as forward, e.g., madam,kayak,racecar, or a phrase \"nurses run\". Hint: You may want to check out the .replace() method in a string to help out with dealing with spaces. Also google search how to reverse a string in Python, there are some clever ways to do it with slicing notation."
      ]
    },
    {
      "cell_type": "code",
      "execution_count": 106,
      "metadata": {
        "collapsed": true,
        "jupyter": {
          "outputs_hidden": true
        },
        "id": "__7545XOruic"
      },
      "outputs": [],
      "source": [
        "def palindrome(s):\n",
        "    text=s\n",
        "    palindrome=s[::-1]\n",
        "    if text==palindrome:\n",
        "      print(True)\n",
        ""
      ]
    },
    {
      "cell_type": "code",
      "execution_count": 107,
      "metadata": {
        "id": "GSi_lMjQruic",
        "outputId": "1096473f-67a4-4df4-db75-fd79d5095877",
        "colab": {
          "base_uri": "https://localhost:8080/"
        }
      },
      "outputs": [
        {
          "output_type": "stream",
          "name": "stdout",
          "text": [
            "True\n"
          ]
        }
      ],
      "source": [
        "palindrome('helleh')"
      ]
    },
    {
      "cell_type": "markdown",
      "metadata": {
        "id": "Gn_TF-FMruic"
      },
      "source": [
        "____\n",
        "#### Hard:\n",
        "\n",
        "**Write a Python function to check whether a string is pangram or not. (Assume the string passed in does not have any punctuation)**\n",
        "\n",
        "    Note : Pangrams are words or sentences containing every letter of the alphabet at least once.\n",
        "    For example : \"The quick brown fox jumps over the lazy dog\"\n",
        "\n",
        "Hint: You may want to use .replace() method to get rid of spaces.\n",
        "\n",
        "Hint: Look at the [string module](https://stackoverflow.com/questions/16060899/alphabet-range-in-python)\n",
        "\n",
        "Hint: In case you want to use [set comparisons](https://medium.com/better-programming/a-visual-guide-to-set-comparisons-in-python-6ab7edb9ec41)"
      ]
    },
    {
      "cell_type": "code",
      "execution_count": 4,
      "metadata": {
        "collapsed": true,
        "jupyter": {
          "outputs_hidden": true
        },
        "id": "4jxj8f2truic"
      },
      "outputs": [],
      "source": [
        "import string\n",
        "\n",
        "def ispangram(str1, alphabet=string.ascii_lowercase):\n",
        "  str1=str1.replace(' ','').casefold()\n",
        "  return set(str1)>=set(string.ascii_lowercase)\n",
        "\n",
        "  return str1\n",
        "\n",
        ""
      ]
    },
    {
      "cell_type": "code",
      "execution_count": 5,
      "metadata": {
        "id": "JNvpeqIXruic",
        "colab": {
          "base_uri": "https://localhost:8080/"
        },
        "outputId": "c706b3ff-8c36-4e8d-cd1b-e362d7b5e671"
      },
      "outputs": [
        {
          "output_type": "execute_result",
          "data": {
            "text/plain": [
              "True"
            ]
          },
          "metadata": {},
          "execution_count": 5
        }
      ],
      "source": [
        "ispangram(\"The quick brown fox jumps over the lazy dog\")"
      ]
    },
    {
      "cell_type": "code",
      "execution_count": 6,
      "metadata": {
        "id": "62cQCtsOruic",
        "outputId": "a3ab8260-7a11-4cfe-ffe9-f2aa0e3ae42d",
        "colab": {
          "base_uri": "https://localhost:8080/",
          "height": 36
        }
      },
      "outputs": [
        {
          "output_type": "execute_result",
          "data": {
            "text/plain": [
              "'abcdefghijklmnopqrstuvwxyz'"
            ],
            "application/vnd.google.colaboratory.intrinsic+json": {
              "type": "string"
            }
          },
          "metadata": {},
          "execution_count": 6
        }
      ],
      "source": [
        "string.ascii_lowercase"
      ]
    }
  ],
  "metadata": {
    "kernelspec": {
      "display_name": "Python 3 (ipykernel)",
      "language": "python",
      "name": "python3"
    },
    "language_info": {
      "codemirror_mode": {
        "name": "ipython",
        "version": 3
      },
      "file_extension": ".py",
      "mimetype": "text/x-python",
      "name": "python",
      "nbconvert_exporter": "python",
      "pygments_lexer": "ipython3",
      "version": "3.10.11"
    },
    "colab": {
      "provenance": [],
      "toc_visible": true
    }
  },
  "nbformat": 4,
  "nbformat_minor": 0
}