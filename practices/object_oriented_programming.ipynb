{
  "cells": [
    {
      "cell_type": "markdown",
      "metadata": {
        "id": "sz4TJy_dIoSM"
      },
      "source": [
        "# Object Oriented Programming Challenge\n",
        "\n",
        "For this challenge, create a bank account class that has two attributes:\n",
        "\n",
        "* owner\n",
        "* balance\n",
        "\n",
        "and two methods:\n",
        "\n",
        "* deposit\n",
        "* withdraw\n",
        "\n",
        "As an added requirement, withdrawals may not exceed the available balance.\n",
        "\n",
        "Instantiate your class, make several deposits and withdrawals, and test to make sure the account can't be overdrawn.\n",
        "\n",
        "Also you need to take care of \"__str__\" and \"__repr__\" dunder methods"
      ]
    },
    {
      "cell_type": "code",
      "execution_count": 124,
      "metadata": {
        "id": "MjhWbbdjIoSN"
      },
      "outputs": [],
      "source": [
        "class Account:\n",
        "\n",
        "  def __init__(self,owner,balance=0):\n",
        "    self.owner=owner\n",
        "    if balance < 0:\n",
        "      print(\"Warning: Initial balance cannot be negative. Setting balance to 0.\")\n",
        "      self.balance = 0\n",
        "    else:\n",
        "      self.balance = balance\n",
        "\n",
        "  def deposit(self,amount):\n",
        "    if amount > 0:\n",
        "      self.balance += amount\n",
        "      print(f'Your deposite of {amount:.2f} successful. Your balance is {self.balance:.2f} ')\n",
        "      return True\n",
        "    else:\n",
        "      print('Invalid deposit amount. Please deposit an amount greater than zero.')\n",
        "      return False\n",
        "\n",
        "\n",
        "  def withdraw(self,amount):\n",
        "    if amount > 0:\n",
        "      if amount<=self.balance:\n",
        "        self.balance-=amount\n",
        "        print(f' Withdraw of {amount:.2f} successful.Your new balance is {self.balance:.2f} ')\n",
        "        return True\n",
        "      else:\n",
        "        print('Insufficient funds. You cannot withdraw more than your current balance.')\n",
        "        return False\n",
        "    else:\n",
        "      print('Invalid deposit amount. Please deposit an amount greater than zero.')\n",
        "      return False\n",
        "\n",
        "  def __str__(self):\n",
        "        return f'Account owner: {self.owner}\\nAccount balance: {self.balance:.2f}'\n",
        "\n",
        "  def __repr__(self):\n",
        "        return f'Account(owner=\"{self.owner}\", balance={self.balance:.2f})'\n",
        "\n",
        "\n"
      ]
    },
    {
      "cell_type": "code",
      "execution_count": 126,
      "metadata": {
        "id": "ITFIjUQDIoSO"
      },
      "outputs": [],
      "source": [
        "# 1. Instantiate the class\n",
        "acct1 = Account('Ali',500)"
      ]
    },
    {
      "cell_type": "code",
      "execution_count": 127,
      "metadata": {
        "id": "i32WlcvvIoSO",
        "outputId": "070b9bb4-5cbf-4f47-e867-98ba608f6238",
        "colab": {
          "base_uri": "https://localhost:8080/"
        }
      },
      "outputs": [
        {
          "output_type": "stream",
          "name": "stdout",
          "text": [
            "Account owner: Ali\n",
            "Account balance: 500.00\n",
            "Account(owner=\"Ali\", balance=500.00)\n"
          ]
        }
      ],
      "source": [
        "# 2. Print the object\n",
        "print(acct1)\n",
        "print(repr(acct1))"
      ]
    },
    {
      "cell_type": "code",
      "execution_count": 113,
      "metadata": {
        "id": "21MpqsOcIoSP",
        "outputId": "43afa956-87ec-4ccd-d137-69f95e6720e7",
        "colab": {
          "base_uri": "https://localhost:8080/",
          "height": 35
        }
      },
      "outputs": [
        {
          "output_type": "execute_result",
          "data": {
            "text/plain": [
              "'Ali'"
            ],
            "application/vnd.google.colaboratory.intrinsic+json": {
              "type": "string"
            }
          },
          "metadata": {},
          "execution_count": 113
        }
      ],
      "source": [
        "# 3. Show the account owner attribute\n",
        "acct1.owner"
      ]
    },
    {
      "cell_type": "code",
      "execution_count": 114,
      "metadata": {
        "id": "i6_k7sL5IoSP",
        "outputId": "83bf0faf-5580-4c3e-9cae-2adcb83ebe18",
        "colab": {
          "base_uri": "https://localhost:8080/"
        }
      },
      "outputs": [
        {
          "output_type": "execute_result",
          "data": {
            "text/plain": [
              "500"
            ]
          },
          "metadata": {},
          "execution_count": 114
        }
      ],
      "source": [
        "# 4. Show the account balance attribute\n",
        "acct1.balance"
      ]
    },
    {
      "cell_type": "code",
      "execution_count": 115,
      "metadata": {
        "id": "hM3lLKXaIoSQ",
        "outputId": "49293968-21e5-4f59-8a78-6ba09ad27a7c",
        "colab": {
          "base_uri": "https://localhost:8080/"
        }
      },
      "outputs": [
        {
          "output_type": "stream",
          "name": "stdout",
          "text": [
            "Your deposite of 50.00 successful. Your balance is 550.00 \n"
          ]
        },
        {
          "output_type": "execute_result",
          "data": {
            "text/plain": [
              "True"
            ]
          },
          "metadata": {},
          "execution_count": 115
        }
      ],
      "source": [
        "# 5. Make a series of deposits and withdrawals\n",
        "acct1.deposit(50)"
      ]
    },
    {
      "cell_type": "code",
      "execution_count": 116,
      "metadata": {
        "id": "lwFOuPIRIoSQ",
        "outputId": "1da45b50-b6ab-4c37-fa7d-9ec4d54795ca",
        "colab": {
          "base_uri": "https://localhost:8080/"
        }
      },
      "outputs": [
        {
          "output_type": "stream",
          "name": "stdout",
          "text": [
            " Withdraw of 75.00 successful.Your new balance is 475.00 \n"
          ]
        },
        {
          "output_type": "execute_result",
          "data": {
            "text/plain": [
              "True"
            ]
          },
          "metadata": {},
          "execution_count": 116
        }
      ],
      "source": [
        "acct1.withdraw(75)"
      ]
    },
    {
      "cell_type": "code",
      "execution_count": 117,
      "metadata": {
        "id": "AFRA7ZTJIoSQ",
        "outputId": "9d81f7dd-4847-4898-990b-de22a81e67b3",
        "colab": {
          "base_uri": "https://localhost:8080/"
        }
      },
      "outputs": [
        {
          "output_type": "stream",
          "name": "stdout",
          "text": [
            "Insufficient funds. You cannot withdraw more than your current balance.\n"
          ]
        },
        {
          "output_type": "execute_result",
          "data": {
            "text/plain": [
              "False"
            ]
          },
          "metadata": {},
          "execution_count": 117
        }
      ],
      "source": [
        "# 6. Make a withdrawal that exceeds the available balance\n",
        "acct1.withdraw(500)"
      ]
    }
  ],
  "metadata": {
    "kernelspec": {
      "display_name": "Python 3 (ipykernel)",
      "language": "python",
      "name": "python3"
    },
    "language_info": {
      "codemirror_mode": {
        "name": "ipython",
        "version": 3
      },
      "file_extension": ".py",
      "mimetype": "text/x-python",
      "name": "python",
      "nbconvert_exporter": "python",
      "pygments_lexer": "ipython3",
      "version": "3.10.11"
    },
    "colab": {
      "provenance": [],
      "toc_visible": true
    }
  },
  "nbformat": 4,
  "nbformat_minor": 0
}