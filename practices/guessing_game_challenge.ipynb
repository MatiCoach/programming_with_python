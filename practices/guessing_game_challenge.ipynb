{
  "cells": [
    {
      "cell_type": "markdown",
      "metadata": {
        "id": "CfbsIFeYbfWM"
      },
      "source": [
        "# Guessing Game Challenge\n",
        "\n",
        "Let's use `while` loops to create a guessing game.\n",
        "\n",
        "The Challenge:\n",
        "\n",
        "Write a program that picks a random integer from 1 to 100, and has players guess the number. The rules are:\n",
        "\n",
        "1. If a player's guess is less than 1 or greater than 100, say \"OUT OF BOUNDS\"\n",
        "2. On a player's first turn, if their guess is\n",
        " * within 10 of the number, return \"WARM!\"\n",
        " * further than 10 away from the number, return \"COLD!\"\n",
        "3. On all subsequent turns, if a guess is\n",
        " * closer to the number than the previous guess return \"WARMER!\"\n",
        " * farther from the number than the previous guess, return \"COLDER!\"\n",
        "4. When the player's guess equals the number, tell them they've guessed correctly *and* how many guesses it took!\n",
        "\n",
        "You can try this from scratch, or follow the steps outlined below. A separate Solution notebook has been provided. Good luck!\n"
      ]
    },
    {
      "cell_type": "markdown",
      "metadata": {
        "id": "dZrbOipqbfWN"
      },
      "source": [
        "#### First, pick a random integer from 1 to 100 using the random module and assign it to a variable\n",
        "\n",
        "Note: `random.randint(a,b)` returns a random integer in range `[a, b]`, including both end points."
      ]
    },
    {
      "cell_type": "code",
      "execution_count": 70,
      "metadata": {
        "collapsed": true,
        "jupyter": {
          "outputs_hidden": true
        },
        "id": "ES6pMB8mbfWN"
      },
      "outputs": [],
      "source": [
        "import random\n",
        "number_random=random.randint(1,100)"
      ]
    },
    {
      "cell_type": "markdown",
      "metadata": {
        "id": "jMVd2l0kbfWO"
      },
      "source": [
        "#### Next, print an introduction to the game and explain the rules"
      ]
    },
    {
      "cell_type": "code",
      "execution_count": 71,
      "metadata": {
        "collapsed": true,
        "jupyter": {
          "outputs_hidden": true
        },
        "colab": {
          "base_uri": "https://localhost:8080/"
        },
        "id": "HEFLhIQtbfWO",
        "outputId": "4d707e51-5ed2-499c-9928-14454827af8d"
      },
      "outputs": [
        {
          "output_type": "execute_result",
          "data": {
            "text/plain": [
              "30"
            ]
          },
          "metadata": {},
          "execution_count": 71
        }
      ],
      "source": [
        "number_random"
      ]
    },
    {
      "cell_type": "markdown",
      "metadata": {
        "id": "TbonJbUwbfWO"
      },
      "source": [
        "#### Create a list to store guesses\n",
        "\n",
        "Hint: zero is a good placeholder value. It's useful because it evaluates to \"False\""
      ]
    },
    {
      "cell_type": "code",
      "execution_count": 72,
      "metadata": {
        "collapsed": true,
        "jupyter": {
          "outputs_hidden": true
        },
        "id": "BOnP_mvybfWO"
      },
      "outputs": [],
      "source": [
        "random_number_list=[]"
      ]
    },
    {
      "cell_type": "markdown",
      "metadata": {
        "id": "P_VFNBaebfWO"
      },
      "source": [
        "#### Write a `while` loop that asks for a valid guess. Test it a few times to make sure it works."
      ]
    },
    {
      "cell_type": "code",
      "execution_count": 77,
      "metadata": {
        "collapsed": true,
        "jupyter": {
          "outputs_hidden": true
        },
        "colab": {
          "base_uri": "https://localhost:8080/"
        },
        "id": "CtVKvr2KbfWO",
        "outputId": "946fec8e-84fa-4154-8f48-37dec3c40a05"
      },
      "outputs": [
        {
          "output_type": "stream",
          "name": "stdout",
          "text": [
            "Enter a Number :20\n",
            "Hey Boy Warmer\n",
            "Enter a new number :30\n",
            "Congrat!You gussed the number:30\n",
            "All Gussess:(22, [50, 60, 52, 70, 80, 90, 91, 10, 9, 20, 19, 21, 22, 23, 24, 25, 26, 27, 28, 29, 20, 20])\n"
          ]
        }
      ],
      "source": [
        "n=abs(int(input('Enter a Number :')))\n",
        "while n!= number_random:\n",
        "  if number_random-10<=n<=number_random+10 :\n",
        "    print ('Hey Boy Warmer')\n",
        "  else:\n",
        "    print('Hey Boy Colder')\n",
        "  random_number_list.append(n)\n",
        "  n=int(input('Enter a new number :'))\n",
        "print(f'Congrat!You gussed the number:{number_random}')\n",
        "print(f'All Gussess:{len(random_number_list),random_number_list}')\n",
        ""
      ]
    },
    {
      "cell_type": "code",
      "source": [
        "print(random_number_list)\n"
      ],
      "metadata": {
        "colab": {
          "base_uri": "https://localhost:8080/"
        },
        "id": "gLgEIdB8cPJ0",
        "outputId": "e57b9766-c0c9-4b64-9b62-7503c17573f1"
      },
      "execution_count": 74,
      "outputs": [
        {
          "output_type": "stream",
          "name": "stdout",
          "text": [
            "[50, 60, 52, 70, 80, 90, 91, 10, 9, 20, 19, 21, 22, 23, 24, 25, 26, 27, 28, 29]\n"
          ]
        }
      ]
    },
    {
      "cell_type": "markdown",
      "metadata": {
        "id": "3rE1HZeebfWP"
      },
      "source": [
        "#### Write a `while` loop that compares the player's guess to our number. If the player guesses correctly, break from the loop. Otherwise, tell the player if they're warmer or colder, and continue asking for guesses.\n",
        "\n",
        "Some hints:\n",
        "* it may help to sketch out all possible combinations on paper first!\n",
        "* you can use the `abs()` function to find the positive difference between two numbers\n",
        "* if you append all new guesses to the list, then the previous guess is given as `guesses[-2]`"
      ]
    },
    {
      "cell_type": "code",
      "execution_count": 76,
      "metadata": {
        "collapsed": true,
        "jupyter": {
          "outputs_hidden": true
        },
        "colab": {
          "base_uri": "https://localhost:8080/"
        },
        "id": "BZRXlfcRbfWP",
        "outputId": "32ac53e3-390a-4ba4-9c5b-c0df712597dd"
      },
      "outputs": [
        {
          "output_type": "stream",
          "name": "stdout",
          "text": [
            "Enter a umber :20\n",
            "Hey Boy Warmer\n",
            "Enter a new number :30\n",
            "Congrat!You gussed the number:30\n",
            "All Gussess:(21, [50, 60, 52, 70, 80, 90, 91, 10, 9, 20, 19, 21, 22, 23, 24, 25, 26, 27, 28, 29, 20])\n"
          ]
        }
      ],
      "source": [
        "n=abs(int(input('Enter a Number :')))\n",
        "while n!= number_random:\n",
        "  if number_random-10<=n<=number_random+10 :\n",
        "    print ('Hey Boy Warmer')\n",
        "  else:\n",
        "    print('Hey Boy Colder')\n",
        "  random_number_list.append(n)\n",
        "  n=int(input('Enter a new number :'))\n",
        "print(f'Congrat!You gussed the number:{number_random}')\n",
        "print(f'All Gussess:{len(random_number_list),random_number_list}')"
      ]
    },
    {
      "cell_type": "markdown",
      "metadata": {
        "id": "g162xvcdbfWP"
      },
      "source": [
        "That's it! You've just programmed your first game!\n",
        "\n",
        "In the next section we'll learn how to turn some of these repetitive actions into *functions* that can be called whenever we need them."
      ]
    },
    {
      "cell_type": "markdown",
      "metadata": {
        "id": "3vByR0qebfWP"
      },
      "source": [
        "### Good Job!"
      ]
    }
  ],
  "metadata": {
    "kernelspec": {
      "display_name": "Python 3 (ipykernel)",
      "language": "python",
      "name": "python3"
    },
    "language_info": {
      "codemirror_mode": {
        "name": "ipython",
        "version": 3
      },
      "file_extension": ".py",
      "mimetype": "text/x-python",
      "name": "python",
      "nbconvert_exporter": "python",
      "pygments_lexer": "ipython3",
      "version": "3.10.11"
    },
    "colab": {
      "provenance": [],
      "toc_visible": true
    }
  },
  "nbformat": 4,
  "nbformat_minor": 0
}